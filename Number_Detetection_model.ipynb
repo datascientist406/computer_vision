{
 "cells": [
  {
   "cell_type": "code",
   "execution_count": null,
   "id": "1311bede-ec90-491b-b656-3f5597b8102a",
   "metadata": {},
   "outputs": [],
   "source": []
  },
  {
   "cell_type": "code",
   "execution_count": 1,
   "id": "8eee7de4-d8ab-42ba-8717-4eb79c829805",
   "metadata": {},
   "outputs": [],
   "source": [
    "import pandas as pd \n",
    "import os \n",
    "import numpy as np \n",
    "from sklearn.model_selection import train_test_split\n",
    "import cv2"
   ]
  },
  {
   "cell_type": "code",
   "execution_count": 2,
   "id": "74794e08-b3f8-40ac-b798-0da5fe0e1c25",
   "metadata": {},
   "outputs": [],
   "source": [
    "path='data/training_data'\n",
    "mylist=os.listdir(path)\n",
    "images=[]\n",
    "lables=[]\n",
    "Noclass=len(mylist)"
   ]
  },
  {
   "cell_type": "code",
   "execution_count": 3,
   "id": "b3d94b93-e7d9-4645-8284-ce0c61732b5b",
   "metadata": {},
   "outputs": [],
   "source": [
    "for i in range(0,len(mylist)):\n",
    "    pics=os.listdir(path+'/'+str(i))\n",
    "    for j in pics:\n",
    "        img=cv2.imread(path+'/'+str(i)+'/'+j)\n",
    "        img=cv2.resize(img,(32,32))\n",
    "        images.append(img)\n",
    "        lables.append(i)"
   ]
  },
  {
   "cell_type": "code",
   "execution_count": 4,
   "id": "2a9104a8-db5d-4e64-9af1-2ccc11c795b8",
   "metadata": {},
   "outputs": [
    {
     "data": {
      "text/plain": [
       "10334"
      ]
     },
     "execution_count": 4,
     "metadata": {},
     "output_type": "execute_result"
    }
   ],
   "source": [
    "len(images)"
   ]
  },
  {
   "cell_type": "code",
   "execution_count": 5,
   "id": "89562311-a654-46bb-9890-6c6e4ca12c03",
   "metadata": {},
   "outputs": [
    {
     "data": {
      "text/plain": [
       "10334"
      ]
     },
     "execution_count": 5,
     "metadata": {},
     "output_type": "execute_result"
    }
   ],
   "source": [
    "len(lables)"
   ]
  },
  {
   "cell_type": "code",
   "execution_count": 6,
   "id": "e913a4e4-65a8-4cac-945a-64ae39936c3a",
   "metadata": {},
   "outputs": [],
   "source": [
    "images=np.array(images)\n",
    "lables=np.array(lables)"
   ]
  },
  {
   "cell_type": "code",
   "execution_count": 7,
   "id": "dda9f57d-cb24-4ca3-a754-c22871e938a7",
   "metadata": {},
   "outputs": [],
   "source": [
    "xtrain,xtest,ytrain,ytest=train_test_split(images,lables,test_size=0.3,random_state=42)"
   ]
  },
  {
   "cell_type": "code",
   "execution_count": 8,
   "id": "0f2dc5ba-403c-4228-be87-bf9aae3688aa",
   "metadata": {},
   "outputs": [],
   "source": [
    "xtrain,xval,ytrain,yval=train_test_split(xtrain,ytrain,test_size=0.2)"
   ]
  },
  {
   "cell_type": "code",
   "execution_count": 9,
   "id": "b8d6c712-dc24-42c4-8197-10057b6e0668",
   "metadata": {},
   "outputs": [],
   "source": [
    "samples=[]"
   ]
  },
  {
   "cell_type": "code",
   "execution_count": 10,
   "id": "e5aade30-7d0e-486e-9c1f-6d1d6a92d95a",
   "metadata": {},
   "outputs": [],
   "source": [
    "def Process(img):\n",
    "    img=cv2.cvtColor(img,cv2.COLOR_BGR2GRAY)\n",
    "    img=cv2.equalizeHist(img)\n",
    "    img=img/255\n",
    "    return img"
   ]
  },
  {
   "cell_type": "code",
   "execution_count": 12,
   "id": "1367445d-2011-45a1-a64a-a41af1f15a3d",
   "metadata": {},
   "outputs": [
    {
     "data": {
      "text/plain": [
       "-1"
      ]
     },
     "execution_count": 12,
     "metadata": {},
     "output_type": "execute_result"
    }
   ],
   "source": [
    "img=Process(xtrain[100])\n",
    "img=cv2.resize(img,(200,200))\n",
    "cv2.imshow(\"img\",img)\n",
    "cv2.waitKey(0)"
   ]
  },
  {
   "cell_type": "code",
   "execution_count": 13,
   "id": "4ef81d38-5927-4b13-8d6b-d9c3176f315f",
   "metadata": {},
   "outputs": [
    {
     "name": "stdout",
     "output_type": "stream",
     "text": [
      "X_train shape: (5786, 32, 32, 3)\n",
      "X_test shape: (3101, 32, 32, 3)\n"
     ]
    }
   ],
   "source": [
    "print(\"X_train shape:\", xtrain.shape)\n",
    "print(\"X_test shape:\", xtest.shape)\n"
   ]
  },
  {
   "cell_type": "code",
   "execution_count": 14,
   "id": "a56bb528-eb21-4e61-8922-ba12db224f9b",
   "metadata": {},
   "outputs": [],
   "source": [
    "xtrain=np.array(list(map(Process,xtrain)))"
   ]
  },
  {
   "cell_type": "code",
   "execution_count": 15,
   "id": "13e772d4-70c2-4d2e-921e-066edbc10d90",
   "metadata": {},
   "outputs": [],
   "source": [
    "xtest=np.array(list(map(Process,xtest)))"
   ]
  },
  {
   "cell_type": "code",
   "execution_count": 16,
   "id": "8917ca79-c9f9-4244-ab01-1fd3f671baa2",
   "metadata": {},
   "outputs": [],
   "source": [
    "xval=np.array(list(map(Process,xval)))"
   ]
  },
  {
   "cell_type": "code",
   "execution_count": 17,
   "id": "77ca3439-40ef-4266-8b2a-b5394a1c6222",
   "metadata": {},
   "outputs": [
    {
     "data": {
      "text/plain": [
       "(5786, 32, 32)"
      ]
     },
     "execution_count": 17,
     "metadata": {},
     "output_type": "execute_result"
    }
   ],
   "source": [
    "xtrain.shape"
   ]
  },
  {
   "cell_type": "code",
   "execution_count": 18,
   "id": "8c6a38f6-a4a1-458a-9e14-1c9cdd3e0ece",
   "metadata": {},
   "outputs": [],
   "source": [
    "xtrain = xtrain.reshape(xtrain.shape[0], xtrain.shape[1], xtrain.shape[2], 1)"
   ]
  },
  {
   "cell_type": "code",
   "execution_count": 19,
   "id": "2aa5d8b8-8fcc-435b-b642-ed825a417d12",
   "metadata": {},
   "outputs": [
    {
     "data": {
      "text/plain": [
       "(5786, 32, 32, 1)"
      ]
     },
     "execution_count": 19,
     "metadata": {},
     "output_type": "execute_result"
    }
   ],
   "source": [
    "xtrain.shape"
   ]
  },
  {
   "cell_type": "code",
   "execution_count": 20,
   "id": "1e1adf54-e0b3-4133-8d45-1a50846663b8",
   "metadata": {},
   "outputs": [],
   "source": [
    "xtest=xtest.reshape(xtest.shape[0],xtest.shape[1],xtest.shape[2],1)"
   ]
  },
  {
   "cell_type": "code",
   "execution_count": 21,
   "id": "b330ff5c-1740-4785-9e35-d5b19a615ad5",
   "metadata": {},
   "outputs": [],
   "source": [
    "xval=xval.reshape(xval.shape[0],xval.shape[1],xval.shape[2],1)"
   ]
  },
  {
   "cell_type": "code",
   "execution_count": 22,
   "id": "d8e32af9-8ec5-4a8f-adc2-bb5232b18c15",
   "metadata": {},
   "outputs": [],
   "source": [
    "from tensorflow.keras.preprocessing.image import ImageDataGenerator"
   ]
  },
  {
   "cell_type": "code",
   "execution_count": 23,
   "id": "83289127-be12-4a1f-ae93-3d0c2e8cd934",
   "metadata": {},
   "outputs": [],
   "source": [
    "datagen=ImageDataGenerator(width_shift_range=0.1,height_shift_range=0.1,zoom_range=0.2,shear_range=0.1,rotation_range=10)"
   ]
  },
  {
   "cell_type": "code",
   "execution_count": 25,
   "id": "cff227e4-f51a-42a3-afe5-797c5925960a",
   "metadata": {},
   "outputs": [],
   "source": [
    "datagen.fit(xtrain)"
   ]
  },
  {
   "cell_type": "code",
   "execution_count": 27,
   "id": "a3a8e80f-4faf-45f5-aa7c-9189c8a85197",
   "metadata": {},
   "outputs": [],
   "source": [
    "from tensorflow.keras.utils import to_categorical"
   ]
  },
  {
   "cell_type": "code",
   "execution_count": 29,
   "id": "a9e3f278-05a5-4bc8-9576-03c0f0b3b1c5",
   "metadata": {},
   "outputs": [],
   "source": [
    "ytrain=to_categorical(ytrain,Noclass)"
   ]
  },
  {
   "cell_type": "code",
   "execution_count": 30,
   "id": "a24b0401-9bbc-4615-bdf8-a1c2d4b44b38",
   "metadata": {},
   "outputs": [],
   "source": [
    "ytest=to_categorical(ytest,Noclass)\n",
    "yval=to_categorical(yval,Noclass)"
   ]
  },
  {
   "cell_type": "code",
   "execution_count": 31,
   "id": "ab5a92dc-4bf6-4977-9924-f4de1aecd396",
   "metadata": {},
   "outputs": [],
   "source": [
    "from tensorflow.keras.models import Sequential\n"
   ]
  },
  {
   "cell_type": "code",
   "execution_count": 44,
   "id": "0794b56c-8184-4e8b-a7d2-44ab4f5d2652",
   "metadata": {},
   "outputs": [],
   "source": [
    "from tensorflow.keras.layers import Conv2D,MaxPooling2D,Dense,Flatten,Dropout"
   ]
  },
  {
   "cell_type": "code",
   "execution_count": 52,
   "id": "fd676233-2b70-4da5-aa15-f0eee21bfd51",
   "metadata": {},
   "outputs": [],
   "source": [
    "\n",
    "model=Sequential()\n",
    "model.add(Conv2D(60,(5,5),input_shape=(32,32,1),activation='relu'))"
   ]
  },
  {
   "cell_type": "code",
   "execution_count": 53,
   "id": "04f43de2-9163-451a-8e18-7c07176ac342",
   "metadata": {},
   "outputs": [],
   "source": [
    "model.add(Conv2D(60,(5,5),activation='relu'))"
   ]
  },
  {
   "cell_type": "code",
   "execution_count": 54,
   "id": "195c922a-d3e6-45b9-b899-d889acd650a5",
   "metadata": {},
   "outputs": [],
   "source": [
    "model.add(MaxPooling2D((2,2)))"
   ]
  },
  {
   "cell_type": "code",
   "execution_count": 55,
   "id": "96a246f1-4f05-4b4e-85fb-01644911d8b9",
   "metadata": {},
   "outputs": [],
   "source": [
    "model.add(Conv2D(30,(3,3),activation='relu'))"
   ]
  },
  {
   "cell_type": "code",
   "execution_count": 56,
   "id": "f024cac1-8ef4-4aa4-a94a-92c315f91271",
   "metadata": {},
   "outputs": [],
   "source": [
    "model.add(Conv2D(15,(3,3),activation='relu'))"
   ]
  },
  {
   "cell_type": "code",
   "execution_count": 57,
   "id": "dc46c955-960d-4ab6-80a0-c1b2c80936a6",
   "metadata": {},
   "outputs": [],
   "source": [
    "model.add(Dropout(0.5))"
   ]
  },
  {
   "cell_type": "code",
   "execution_count": 58,
   "id": "370ba10a-7ea4-4026-80de-49b1f975ab87",
   "metadata": {},
   "outputs": [],
   "source": [
    "model.add(Flatten())"
   ]
  },
  {
   "cell_type": "code",
   "execution_count": 59,
   "id": "cdd5b073-2b91-4bbc-839b-68cc93c89a37",
   "metadata": {},
   "outputs": [],
   "source": [
    "model.add(Dense(500,activation='relu'))\n",
    "model.add(Dropout(0.5))"
   ]
  },
  {
   "cell_type": "code",
   "execution_count": 60,
   "id": "980267eb-9dd0-4455-9b25-fc51f54dfdc6",
   "metadata": {},
   "outputs": [],
   "source": [
    "model.add(Dense(Noclass,activation='softmax'))"
   ]
  },
  {
   "cell_type": "code",
   "execution_count": 61,
   "id": "b4b05f39-4a44-4bc3-9193-485419023a12",
   "metadata": {},
   "outputs": [],
   "source": [
    "model.compile(optimizer='adam',loss='categorical_crossentropy',metrics=['accuracy'])"
   ]
  },
  {
   "cell_type": "code",
   "execution_count": 62,
   "id": "6a93432d-065d-45ca-96ca-839c57b2d948",
   "metadata": {},
   "outputs": [
    {
     "name": "stdout",
     "output_type": "stream",
     "text": [
      "Model: \"sequential_1\"\n",
      "_________________________________________________________________\n",
      " Layer (type)                Output Shape              Param #   \n",
      "=================================================================\n",
      " conv2d_5 (Conv2D)           (None, 28, 28, 60)        1560      \n",
      "                                                                 \n",
      " conv2d_6 (Conv2D)           (None, 24, 24, 60)        90060     \n",
      "                                                                 \n",
      " max_pooling2d_1 (MaxPooling  (None, 12, 12, 60)       0         \n",
      " 2D)                                                             \n",
      "                                                                 \n",
      " conv2d_7 (Conv2D)           (None, 10, 10, 30)        16230     \n",
      "                                                                 \n",
      " conv2d_8 (Conv2D)           (None, 8, 8, 15)          4065      \n",
      "                                                                 \n",
      " dropout_2 (Dropout)         (None, 8, 8, 15)          0         \n",
      "                                                                 \n",
      " flatten_1 (Flatten)         (None, 960)               0         \n",
      "                                                                 \n",
      " dense_2 (Dense)             (None, 500)               480500    \n",
      "                                                                 \n",
      " dropout_3 (Dropout)         (None, 500)               0         \n",
      "                                                                 \n",
      " dense_3 (Dense)             (None, 10)                5010      \n",
      "                                                                 \n",
      "=================================================================\n",
      "Total params: 597,425\n",
      "Trainable params: 597,425\n",
      "Non-trainable params: 0\n",
      "_________________________________________________________________\n"
     ]
    }
   ],
   "source": [
    "model.summary()"
   ]
  },
  {
   "cell_type": "code",
   "execution_count": 64,
   "id": "3452d6b7-780f-453a-8462-10aa5439963c",
   "metadata": {},
   "outputs": [
    {
     "name": "stderr",
     "output_type": "stream",
     "text": [
      "C:\\Users\\Anonymous\\AppData\\Local\\Temp\\ipykernel_1152\\4173949122.py:1: UserWarning: `Model.fit_generator` is deprecated and will be removed in a future version. Please use `Model.fit`, which supports generators.\n",
      "  history=model.fit_generator(datagen.flow(xtrain,ytrain,batch_size=32),epochs=10,steps_per_epoch=2000,validation_data=(xval,yval),shuffle=1)\n"
     ]
    },
    {
     "name": "stdout",
     "output_type": "stream",
     "text": [
      "Epoch 1/10\n",
      " 181/2000 [=>............................] - ETA: 5:15 - loss: 0.3253 - accuracy: 0.8970WARNING:tensorflow:Your input ran out of data; interrupting training. Make sure that your dataset or generator can generate at least `steps_per_epoch * epochs` batches (in this case, 20000 batches). You may need to use the repeat() function when building your dataset.\n",
      "2000/2000 [==============================] - 33s 17ms/step - loss: 0.3253 - accuracy: 0.8970 - val_loss: 0.0444 - val_accuracy: 0.9876\n"
     ]
    }
   ],
   "source": [
    "history=model.fit_generator(datagen.flow(xtrain,ytrain,batch_size=32),epochs=10,steps_per_epoch=2000,validation_data=(xval,yval),shuffle=1)"
   ]
  },
  {
   "cell_type": "code",
   "execution_count": 68,
   "id": "7bbe772d-ad7b-407a-8a0f-ab9df963eee3",
   "metadata": {},
   "outputs": [],
   "source": [
    "import matplotlib.pyplot as plt"
   ]
  },
  {
   "cell_type": "code",
   "execution_count": 71,
   "id": "ee5afe02-1a69-4b37-bbae-f8a55cf33ee7",
   "metadata": {},
   "outputs": [
    {
     "data": {
      "text/plain": [
       "[<matplotlib.lines.Line2D at 0x21408139e80>]"
      ]
     },
     "execution_count": 71,
     "metadata": {},
     "output_type": "execute_result"
    },
    {
     "data": {
      "image/png": "[encoded data removed]",
      "text/plain": [
       "<Figure size 640x480 with 1 Axes>"
      ]
     },
     "metadata": {},
     "output_type": "display_data"
    }
   ],
   "source": [
    "plt.figure(1)\n",
    "plt.plot(history.history['val_loss'])\n",
    "plt.plot(history.history['val_accuracy'])"
   ]
  },
  {
   "cell_type": "code",
   "execution_count": 70,
   "id": "bbce28de-82e3-4071-8c5b-16b8361ffc10",
   "metadata": {},
   "outputs": [
    {
     "name": "stdout",
     "output_type": "stream",
     "text": [
      "97/97 [==============================] - 4s 39ms/step - loss: 0.0405 - accuracy: 0.9861\n"
     ]
    },
    {
     "data": {
      "text/plain": [
       "[0.04047998785972595, 0.9861335158348083]"
      ]
     },
     "execution_count": 70,
     "metadata": {},
     "output_type": "execute_result"
    }
   ],
   "source": [
    "model.evaluate(xtest,ytest)"
   ]
  },
  {
   "cell_type": "code",
   "execution_count": 76,
   "id": "62970451-ee35-4743-a9cf-c4e04cd056e4",
   "metadata": {},
   "outputs": [],
   "source": [
    "# Save the model in HDF5 format\n",
    "model.save(\"model.h5\")\n"
   ]
  },
  {
   "cell_type": "code",
   "execution_count": null,
   "id": "2b464dcb-e579-4930-bb98-763ae3272610",
   "metadata": {},
   "outputs": [],
   "source": []
  },
  {
   "cell_type": "code",
   "execution_count": null,
   "id": "b3e3d0e5-3725-455b-9406-b96a43aa059b",
   "metadata": {},
   "outputs": [],
   "source": []
  }
 ],
 "metadata": {
  "kernelspec": {
   "display_name": "Python 3 (ipykernel)",
   "language": "python",
   "name": "python3"
  },
  "language_info": {
   "codemirror_mode": {
    "name": "ipython",
    "version": 3
   },
   "file_extension": ".py",
   "mimetype": "text/x-python",
   "name": "python",
   "nbconvert_exporter": "python",
   "pygments_lexer": "ipython3",
   "version": "3.9.12"
  }
 },
 "nbformat": 4,
 "nbformat_minor": 5
}
